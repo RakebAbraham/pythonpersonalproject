{
 "cells": [
  {
   "cell_type": "markdown",
   "metadata": {},
   "source": [
    "\n",
    "Given a year, determine whether it is a leap year. If it is a leap year, return the Boolean True, otherwise return False.\n",
    "\n"
   ]
  },
  {
   "cell_type": "code",
   "execution_count": null,
   "metadata": {},
   "outputs": [],
   "source": [
    "def is_leap(year):\n",
    "    #First, check if divisible by 400, then 100, then 4\n",
    "    if year % 400 == 0:\n",
    "        return True\n",
    "    elif year % 100 == 0:\n",
    "        return False\n",
    "    elif year % 4 == 0:\n",
    "        return True\n",
    "    else:\n",
    "        return False\n",
    "    \n",
    "   \n",
    "print(is_leap(1900))  # Expected: False\n",
    "print(is_leap(2400))  # Expected: True\n",
    "print(is_leap(2020))  # Expected: True\n",
    "print(is_leap(2100))  # Expected: False"
   ]
  }
 ],
 "metadata": {
  "language_info": {
   "name": "python"
  }
 },
 "nbformat": 4,
 "nbformat_minor": 2
}
