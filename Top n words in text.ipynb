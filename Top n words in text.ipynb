{
 "cells": [
  {
   "cell_type": "markdown",
   "metadata": {},
   "source": [
    "\n"
   ]
  },
  {
   "cell_type": "markdown",
   "metadata": {},
   "source": [
    "Write a function most_frequent_words(text, n) that takes a string text and an integer n. The function should return a list of the n most frequent words in the string, sorted by frequency in descending order. Ignore punctuation and treat words case-insensitively.\n"
   ]
  },
  {
   "cell_type": "code",
   "execution_count": 50,
   "metadata": {},
   "outputs": [
    {
     "name": "stdout",
     "output_type": "stream",
     "text": [
      "['not', 'that']\n"
     ]
    }
   ],
   "source": [
    "\n",
    "current_dict = {}\n",
    "def most_frequent_words(text, n):\n",
    "    text = text.lower().split()\n",
    "    #text = text.split()\n",
    "    for i in text: #FIRST WORD IN THE BIG STRING\n",
    "        word = i.strip().strip(\",.!?\\\"'\")\n",
    "        if not word:\n",
    "            continue\n",
    "        if word not in current_dict: #first time that it's there then it would be counted as 1\n",
    "            current_dict[word] = 1\n",
    "        else: #the word has already been there? then we increment the value\n",
    "            current_dict[word] +=1\n",
    "    sort_val_desc = sorted(current_dict, key = lambda k: current_dict[k], reverse = True)\n",
    "    most_freq_wrd_list = sort_val_desc[:n]\n",
    "    if n>len(current_dict):\n",
    "        print(f\"There are only, {len(current_dict)} words in the current_dict.\")\n",
    "\n",
    "    return most_freq_wrd_list\n",
    "\n",
    "\n",
    "sample = \"He said he , , that not everyone, not not not not, that, that, that\" \n",
    "result = most_frequent_words(sample,2)\n",
    "print(result)\n",
    "\n",
    "\n",
    "\n",
    "        \n",
    "\n"
   ]
  },
  {
   "cell_type": "code",
   "execution_count": null,
   "metadata": {},
   "outputs": [],
   "source": []
  }
 ],
 "metadata": {
  "kernelspec": {
   "display_name": "base",
   "language": "python",
   "name": "python3"
  },
  "language_info": {
   "codemirror_mode": {
    "name": "ipython",
    "version": 3
   },
   "file_extension": ".py",
   "mimetype": "text/x-python",
   "name": "python",
   "nbconvert_exporter": "python",
   "pygments_lexer": "ipython3",
   "version": "3.9.7"
  }
 },
 "nbformat": 4,
 "nbformat_minor": 2
}
